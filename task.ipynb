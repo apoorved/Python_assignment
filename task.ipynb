{
 "cells": [
  {
   "cell_type": "code",
   "execution_count": 30,
   "id": "2b3daeff",
   "metadata": {},
   "outputs": [],
   "source": [
    "import csv"
   ]
  },
  {
   "cell_type": "code",
   "execution_count": 31,
   "id": "22f32226",
   "metadata": {},
   "outputs": [],
   "source": [
    "def convert_to_int(value):\n",
    "    return int(value)"
   ]
  },
  {
   "cell_type": "code",
   "execution_count": 32,
   "id": "40d3589e",
   "metadata": {},
   "outputs": [],
   "source": [
    "def get_stops(string):\n",
    "    li = list(string.split(\", \"))\n",
    "    return li"
   ]
  },
  {
   "cell_type": "code",
   "execution_count": 33,
   "id": "e8befe5b",
   "metadata": {},
   "outputs": [],
   "source": [
    "def is_trip(firstcity, secondcity, row):\n",
    "    return (row['to'] == firstcity and row['from'] == secondcity) or (row['from'] == firstcity and row['to'] == secondcity)"
   ]
  },
  {
   "cell_type": "code",
   "execution_count": 34,
   "id": "f6218592",
   "metadata": {},
   "outputs": [],
   "source": [
    "def get_trip_distance(firstcity, secondcity):\n",
    "    for row in distances:\n",
    "        if is_trip(firstcity,secondcity, row):\n",
    "            return (row['distance'])"
   ]
  },
  {
   "cell_type": "code",
   "execution_count": 35,
   "id": "86b35e25",
   "metadata": {},
   "outputs": [],
   "source": [
    "def calc_distance(row):\n",
    "        stops = get_stops(row['stops'])\n",
    "        len_stops = len(stops)\n",
    "        totalDist = 0\n",
    "        i = 0\n",
    "        while i < len_stops - 1:\n",
    "            totalDist += get_trip_distance(stops[i], stops[i + 1])\n",
    "            i += 1\n",
    "        return totalDist"
   ]
  },
  {
   "cell_type": "code",
   "execution_count": 36,
   "id": "83168c55",
   "metadata": {},
   "outputs": [
    {
     "name": "stdout",
     "output_type": "stream",
     "text": [
      "Distance from Delhi to Chennai is 2262.\n",
      "Distance from Bengaluru to Bhopal is 1426.\n"
     ]
    }
   ],
   "source": [
    "# distances = list(csv.DictReader(open(\"data/Routes - distances.csv\")))\n",
    "routes = list(csv.DictReader(open(\"data/Routes - routes.csv\")))\n",
    "with open('data/Routes - distances.csv', 'r') as csv_file:\n",
    "    csv_reader = csv.DictReader(csv_file)\n",
    "    distances = []\n",
    "    for eachrow in csv_reader:\n",
    "        eachrow['distance'] = int(eachrow['distance'])\n",
    "        distances.append(eachrow)\n",
    "\n",
    "for row in routes:\n",
    "    totaldistance = calc_distance(row)\n",
    "    print(f\"Distance from {row['source']} to {row['destination']} is {totaldistance}.\")"
   ]
  },
  {
   "cell_type": "code",
   "execution_count": null,
   "id": "1b417b99",
   "metadata": {},
   "outputs": [],
   "source": []
  }
 ],
 "metadata": {
  "kernelspec": {
   "display_name": "Python 3 (ipykernel)",
   "language": "python",
   "name": "python3"
  },
  "language_info": {
   "codemirror_mode": {
    "name": "ipython",
    "version": 3
   },
   "file_extension": ".py",
   "mimetype": "text/x-python",
   "name": "python",
   "nbconvert_exporter": "python",
   "pygments_lexer": "ipython3",
   "version": "3.9.7"
  }
 },
 "nbformat": 4,
 "nbformat_minor": 5
}
