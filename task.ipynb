{
 "cells": [
  {
   "cell_type": "code",
   "execution_count": 180,
   "id": "2b3daeff",
   "metadata": {},
   "outputs": [],
   "source": [
    "import csv\n",
    "# change logic to keep keys\n",
    "#  set operations\n",
    "# format distance to integers on file  read"
   ]
  },
  {
   "cell_type": "code",
   "execution_count": 232,
   "id": "40d3589e",
   "metadata": {},
   "outputs": [],
   "source": [
    "def get_stops(string):\n",
    "    li = list(string.split(\", \"))\n",
    "    return li"
   ]
  },
  {
   "cell_type": "code",
   "execution_count": 233,
   "id": "f6218592",
   "metadata": {},
   "outputs": [],
   "source": [
    "def get_distance(firstcity, secondcity):\n",
    "    for row in distances:\n",
    "        arr=list(row.values())\n",
    "        if all(x in arr for x in [firstcity, secondcity]):\n",
    "            return int(row['distance'])"
   ]
  },
  {
   "cell_type": "code",
   "execution_count": 234,
   "id": "86b35e25",
   "metadata": {},
   "outputs": [],
   "source": [
    "def calc_distance(row):\n",
    "        stops = get_stops(row['stops'])\n",
    "        len_stops = len(stops)\n",
    "        totalDist = 0\n",
    "        i = 0\n",
    "        while i < len_stops - 1:\n",
    "            totalDist += get_distance(stops[i], stops[i + 1])\n",
    "            i += 1\n",
    "        print(f\"Distance from {row['source']} to {row['destination']} is {totalDist}.\")"
   ]
  },
  {
   "cell_type": "code",
   "execution_count": 235,
   "id": "83168c55",
   "metadata": {},
   "outputs": [
    {
     "name": "stdout",
     "output_type": "stream",
     "text": [
      "Distance from Delhi to Chennai is 2262.\n",
      "Distance from Bengaluru to Bhopal is 1426.\n"
     ]
    }
   ],
   "source": [
    "distances = list(csv.DictReader(open(\"data/Routes - distances.csv\")))\n",
    "routes = list(csv.DictReader(open(\"data/Routes - routes.csv\")))\n",
    "for row in routes:\n",
    "    calc_distance(row)"
   ]
  },
  {
   "cell_type": "code",
   "execution_count": null,
   "id": "1b417b99",
   "metadata": {},
   "outputs": [],
   "source": []
  }
 ],
 "metadata": {
  "kernelspec": {
   "display_name": "Python 3 (ipykernel)",
   "language": "python",
   "name": "python3"
  },
  "language_info": {
   "codemirror_mode": {
    "name": "ipython",
    "version": 3
   },
   "file_extension": ".py",
   "mimetype": "text/x-python",
   "name": "python",
   "nbconvert_exporter": "python",
   "pygments_lexer": "ipython3",
   "version": "3.9.7"
  }
 },
 "nbformat": 4,
 "nbformat_minor": 5
}
